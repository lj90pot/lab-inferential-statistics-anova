{
 "cells": [
  {
   "cell_type": "markdown",
   "id": "c074ac60",
   "metadata": {},
   "source": [
    "## LAB ANOVA\n",
    "\n",
    "### Part 1\n",
    "\n",
    "In this lab we check the Anova test. \n",
    "\n",
    "- State the null hypothesis\n",
    "H0. all µ are equal. All averages of etching are equal\n",
    "\n",
    "\n",
    "- State the alternate hypothesis\n",
    "Ha. not all µ are equal. At least one is different. Not all averages of etching are equal. \n",
    "\n",
    "- What is the significance level\n",
    "alpha = 0.05\n",
    "\n",
    "- What are the degrees of freedom of model, error terms, and total DoF\n",
    "\n",
    "DF1=3-1=2\n",
    "\n",
    "DF2=5-3=2\n",
    "\n",
    "DFtot=5-1=4\n",
    "\n"
   ]
  },
  {
   "cell_type": "markdown",
   "id": "a01b10e5",
   "metadata": {},
   "source": [
    "### Part 2"
   ]
  },
  {
   "cell_type": "code",
   "execution_count": 23,
   "id": "987d8d17",
   "metadata": {},
   "outputs": [],
   "source": [
    "import pandas as pd\n",
    "import numpy as np\n",
    "import scipy.stats as stats"
   ]
  },
  {
   "cell_type": "code",
   "execution_count": 4,
   "id": "a92c25b6",
   "metadata": {},
   "outputs": [],
   "source": [
    "df = pd.read_excel(\"./files_for_lab/anova_lab_data.xlsx\")"
   ]
  },
  {
   "cell_type": "code",
   "execution_count": 5,
   "id": "8ea3a099",
   "metadata": {
    "scrolled": true
   },
   "outputs": [
    {
     "data": {
      "text/html": [
       "<div>\n",
       "<style scoped>\n",
       "    .dataframe tbody tr th:only-of-type {\n",
       "        vertical-align: middle;\n",
       "    }\n",
       "\n",
       "    .dataframe tbody tr th {\n",
       "        vertical-align: top;\n",
       "    }\n",
       "\n",
       "    .dataframe thead th {\n",
       "        text-align: right;\n",
       "    }\n",
       "</style>\n",
       "<table border=\"1\" class=\"dataframe\">\n",
       "  <thead>\n",
       "    <tr style=\"text-align: right;\">\n",
       "      <th></th>\n",
       "      <th>Power</th>\n",
       "      <th>Etching Rate</th>\n",
       "    </tr>\n",
       "  </thead>\n",
       "  <tbody>\n",
       "    <tr>\n",
       "      <th>10</th>\n",
       "      <td>180 W</td>\n",
       "      <td>5.66</td>\n",
       "    </tr>\n",
       "    <tr>\n",
       "      <th>4</th>\n",
       "      <td>180 W</td>\n",
       "      <td>6.71</td>\n",
       "    </tr>\n",
       "    <tr>\n",
       "      <th>8</th>\n",
       "      <td>200 W</td>\n",
       "      <td>7.90</td>\n",
       "    </tr>\n",
       "  </tbody>\n",
       "</table>\n",
       "</div>"
      ],
      "text/plain": [
       "   Power   Etching Rate\n",
       "10  180 W          5.66\n",
       "4   180 W          6.71\n",
       "8   200 W          7.90"
      ]
     },
     "execution_count": 5,
     "metadata": {},
     "output_type": "execute_result"
    }
   ],
   "source": [
    "df.sample(3)"
   ]
  },
  {
   "cell_type": "code",
   "execution_count": 14,
   "id": "50258fc9",
   "metadata": {},
   "outputs": [
    {
     "name": "stdout",
     "output_type": "stream",
     "text": [
      "<class 'pandas.core.frame.DataFrame'>\n",
      "RangeIndex: 15 entries, 0 to 14\n",
      "Data columns (total 2 columns):\n",
      " #   Column        Non-Null Count  Dtype  \n",
      "---  ------        --------------  -----  \n",
      " 0   power_        15 non-null     object \n",
      " 1   etching_rate  15 non-null     float64\n",
      "dtypes: float64(1), object(1)\n",
      "memory usage: 368.0+ bytes\n"
     ]
    }
   ],
   "source": [
    "df.info()"
   ]
  },
  {
   "cell_type": "code",
   "execution_count": 17,
   "id": "0171b2a7",
   "metadata": {
    "scrolled": true
   },
   "outputs": [
    {
     "data": {
      "text/plain": [
       "160 W    5\n",
       "180 W    5\n",
       "200 W    5\n",
       "Name: power_, dtype: int64"
      ]
     },
     "execution_count": 17,
     "metadata": {},
     "output_type": "execute_result"
    }
   ],
   "source": [
    "df.columns = [column.lower().replace(' ', '_') for column in df.columns]\n",
    "df['power_'].value_counts()"
   ]
  },
  {
   "cell_type": "code",
   "execution_count": 21,
   "id": "b8241b64",
   "metadata": {},
   "outputs": [
    {
     "data": {
      "text/html": [
       "<div>\n",
       "<style scoped>\n",
       "    .dataframe tbody tr th:only-of-type {\n",
       "        vertical-align: middle;\n",
       "    }\n",
       "\n",
       "    .dataframe tbody tr th {\n",
       "        vertical-align: top;\n",
       "    }\n",
       "\n",
       "    .dataframe thead th {\n",
       "        text-align: right;\n",
       "    }\n",
       "</style>\n",
       "<table border=\"1\" class=\"dataframe\">\n",
       "  <thead>\n",
       "    <tr style=\"text-align: right;\">\n",
       "      <th></th>\n",
       "      <th>etching_rate</th>\n",
       "    </tr>\n",
       "    <tr>\n",
       "      <th>power_</th>\n",
       "      <th></th>\n",
       "    </tr>\n",
       "  </thead>\n",
       "  <tbody>\n",
       "    <tr>\n",
       "      <th>160 W</th>\n",
       "      <td>5.792</td>\n",
       "    </tr>\n",
       "    <tr>\n",
       "      <th>180 W</th>\n",
       "      <td>6.238</td>\n",
       "    </tr>\n",
       "    <tr>\n",
       "      <th>200 W</th>\n",
       "      <td>8.318</td>\n",
       "    </tr>\n",
       "  </tbody>\n",
       "</table>\n",
       "</div>"
      ],
      "text/plain": [
       "        etching_rate\n",
       "power_              \n",
       "160 W          5.792\n",
       "180 W          6.238\n",
       "200 W          8.318"
      ]
     },
     "execution_count": 21,
     "metadata": {},
     "output_type": "execute_result"
    }
   ],
   "source": [
    "df.groupby('power_').agg(np.mean)"
   ]
  },
  {
   "cell_type": "markdown",
   "id": "ff649e32",
   "metadata": {},
   "source": [
    "H0: µ(160W)=µ(180W)=µ(220W)\n",
    "\n",
    "Ha: at least one µ is different\n",
    "\n",
    "alpha=0.05"
   ]
  },
  {
   "cell_type": "code",
   "execution_count": 22,
   "id": "45b83c94",
   "metadata": {},
   "outputs": [],
   "source": [
    "#For the model create list with the three samples. \n",
    "W160 = df[df[\"power_\"] == \"160 W\" ]\n",
    "W180 = df[df[\"power_\"] == \"180 W\" ]\n",
    "W200 = df[df[\"power_\"] == \"200 W\" ]\n",
    "\n",
    "list160 = W160[\"etching_rate\"].tolist()\n",
    "list180 = W180[\"etching_rate\"].tolist()\n",
    "list200 = W200[\"etching_rate\"].tolist()"
   ]
  },
  {
   "cell_type": "code",
   "execution_count": 24,
   "id": "51076b6d",
   "metadata": {},
   "outputs": [
    {
     "name": "stdout",
     "output_type": "stream",
     "text": [
      "F-statistic: 36.87895470100505\n",
      "p-value: 7.506584272358903e-06\n"
     ]
    }
   ],
   "source": [
    "# Perform ANOVA test\n",
    "f_statistic, p_value = stats.f_oneway(list160, list180, list200)\n",
    "\n",
    "# Print the results\n",
    "print(\"F-statistic:\", f_statistic)\n",
    "print(\"p-value:\", p_value)"
   ]
  },
  {
   "cell_type": "markdown",
   "id": "379f74d9",
   "metadata": {},
   "source": [
    "P value is very small. It is smaller than alpha so we don´t accept H0. And we accept Ha. The averages are different. \n",
    "\n",
    "The power has an effect on the etching rate. "
   ]
  },
  {
   "cell_type": "markdown",
   "id": "31071509",
   "metadata": {},
   "source": [
    "<div class=\"alert alert-block alert-warning\">\n",
    "<b>warning:</b> Question. Can I say that the effect is positive? \n",
    "</div>"
   ]
  },
  {
   "cell_type": "code",
   "execution_count": null,
   "id": "544e94c0",
   "metadata": {},
   "outputs": [],
   "source": []
  }
 ],
 "metadata": {
  "kernelspec": {
   "display_name": "Python 3 (ipykernel)",
   "language": "python",
   "name": "python3"
  },
  "language_info": {
   "codemirror_mode": {
    "name": "ipython",
    "version": 3
   },
   "file_extension": ".py",
   "mimetype": "text/x-python",
   "name": "python",
   "nbconvert_exporter": "python",
   "pygments_lexer": "ipython3",
   "version": "3.10.9"
  }
 },
 "nbformat": 4,
 "nbformat_minor": 5
}
